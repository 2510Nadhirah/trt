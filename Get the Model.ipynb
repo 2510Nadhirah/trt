{
 "cells": [
  {
   "cell_type": "markdown",
   "id": "f7e52d39-198f-4c3e-a103-aeee87d4a6be",
   "metadata": {},
   "source": [
    "# Check packages"
   ]
  },
  {
   "cell_type": "code",
   "execution_count": 1,
   "id": "95cf1920-2b2e-4f6d-91dd-86dfe4309e38",
   "metadata": {},
   "outputs": [
    {
     "name": "stdout",
     "output_type": "stream",
     "text": [
      "OpenVINO version:  2024.0.0-14509-34caeefd078-releases/2024/0\n"
     ]
    }
   ],
   "source": [
    "import openvino as ov\n",
    "\n",
    "print(\"OpenVINO version: \", ov.__version__)"
   ]
  },
  {
   "cell_type": "code",
   "execution_count": 2,
   "id": "f052f955-da81-40b6-b849-c47e996d4a12",
   "metadata": {},
   "outputs": [
    {
     "name": "stdout",
     "output_type": "stream",
     "text": [
      "openvino version: 2024.0.0\n"
     ]
    }
   ],
   "source": [
    "import pkg_resources\n",
    "\n",
    "package_name = \"openvino\"\n",
    "\n",
    "try:\n",
    "    distribution = pkg_resources.get_distribution(package_name)\n",
    "    version = distribution.version\n",
    "    print(f\"{package_name} version: {version}\")\n",
    "except pkg_resources.DistributionNotFound:\n",
    "\n",
    "    print(f\"{package_name} is not installed.\")"
   ]
  },
  {
   "cell_type": "code",
   "execution_count": null,
   "id": "dd567d07-440e-40b1-a6ae-bcb8780fbd3c",
   "metadata": {},
   "outputs": [],
   "source": []
  }
 ],
 "metadata": {
  "kernelspec": {
   "display_name": "Python 3 (ipykernel)",
   "language": "python",
   "name": "python3"
  },
  "language_info": {
   "codemirror_mode": {
    "name": "ipython",
    "version": 3
   },
   "file_extension": ".py",
   "mimetype": "text/x-python",
   "name": "python",
   "nbconvert_exporter": "python",
   "pygments_lexer": "ipython3",
   "version": "3.11.9"
  }
 },
 "nbformat": 4,
 "nbformat_minor": 5
}
