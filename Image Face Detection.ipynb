{
 "cells": [
  {
   "cell_type": "markdown",
   "id": "b3f1c83e-fd85-4de2-b53d-a0565ddd714c",
   "metadata": {
    "panel-layout": {
     "height": 60.575,
     "visible": true,
     "width": 100
    }
   },
   "source": [
    "# Load Model"
   ]
  },
  {
   "cell_type": "code",
   "execution_count": 1,
   "id": "70266603-097f-406f-b5cf-39242592d6d9",
   "metadata": {
    "panel-layout": {
     "height": 0,
     "visible": true,
     "width": 100
    }
   },
   "outputs": [
    {
     "name": "stdout",
     "output_type": "stream",
     "text": [
      "Input shape: [1,3,384,672]\n",
      "Output shape: [1,1,200,7]\n"
     ]
    }
   ],
   "source": [
    "import openvino as ov\n",
    "\n",
    "core = ov.Core()\n",
    "\n",
    "model = core.read_model(model='Model/face-detection-adas-0001.xml')\n",
    "compiled_model = core.compile_model(model = model, device_name= \"CPU\")\n",
    "\n",
    "input_layer = compiled_model.input(0)\n",
    "output_layer = compiled_model.output(0)\n",
    "\n",
    "print(\"Input shape:\", input_layer.shape)\n",
    "print(\"Output shape:\", output_layer.shape)"
   ]
  },
  {
   "cell_type": "markdown",
   "id": "3a3692b0-71f5-4667-9c17-429b14f9f879",
   "metadata": {
    "panel-layout": {
     "height": 60.575,
     "visible": true,
     "width": 100
    }
   },
   "source": [
    "# Preprocess new Input Data"
   ]
  },
  {
   "cell_type": "markdown",
   "id": "a539e59a-83e0-4900-8322-9c25808c5266",
   "metadata": {
    "panel-layout": {
     "height": 44.075,
     "visible": true,
     "width": 100
    }
   },
   "source": [
    "### call image"
   ]
  },
  {
   "cell_type": "code",
   "execution_count": 2,
   "id": "4d1b0409-5b4e-4858-be8e-2fb6ac2f8dfb",
   "metadata": {
    "panel-layout": {
     "height": 701,
     "visible": true,
     "width": 100
    }
   },
   "outputs": [
    {
     "name": "stdout",
     "output_type": "stream",
     "text": [
      "(480, 480, 3)\n",
      "(96, 96, 3)\n"
     ]
    }
   ],
   "source": [
    "import cv2\n",
    "import matplotlib.pyplot as plt\n",
    "\n",
    "image = cv2.imread(\"data/angrywonie.png.\")\n",
    "print(image.shape)\n",
    "#plt.imshow(cv2.cvtcolor(image, cv2.COLOR_BGR2RGB))\n",
    "\n",
    "image_height, image_width, image_channels = image.shape\n",
    "image = cv2.resize(image,(int(image_width/5), int(image_height/5)))\n",
    "print(image.shape)\n",
    "\n",
    "cv2.imshow(\"Image\", image)\n",
    "cv2.waitKey()\n",
    "cv2.destroyAllWindows()"
   ]
  },
  {
   "cell_type": "markdown",
   "id": "e6a34fa1-294e-4a70-aa88-2f68a255e3b5",
   "metadata": {
    "panel-layout": {
     "height": 60.57500457763672,
     "visible": true,
     "width": 100
    }
   },
   "source": [
    "# Preprocess Data"
   ]
  },
  {
   "cell_type": "code",
   "execution_count": 3,
   "id": "dba5bec8-7d00-402c-9006-9e28b3bad5d2",
   "metadata": {},
   "outputs": [],
   "source": [
    "import cv2\n",
    "import numpy as np\n",
    "\n",
    "def preprocess(image):\n",
    "    N,input_channels,input_height, input_width = input_layer.shape\n",
    "    \n",
    "    resized_image = cv2.resize(image, (input_width, input_height))\n",
    "    transposed_image = resized_image.transpose(2, 0, 1)\n",
    "    input_image = np.expand_dims(transposed_image, 0 )\n",
    "    \n",
    "    return input_image \n"
   ]
  },
  {
   "cell_type": "code",
   "execution_count": 4,
   "id": "9f47e1e9-4129-4530-aba8-e5b49a244b98",
   "metadata": {
    "panel-layout": {
     "height": 0,
     "visible": true,
     "width": 100
    }
   },
   "outputs": [
    {
     "name": "stdout",
     "output_type": "stream",
     "text": [
      "(96, 96, 3)\n",
      "(1, 3, 384, 672)\n"
     ]
    }
   ],
   "source": [
    "input_image = preprocess(image)\n",
    "\n",
    "print(image.shape)\n",
    "print(input_image.shape)\n"
   ]
  },
  {
   "cell_type": "markdown",
   "id": "3a288d1f-ec35-4d73-834c-f45b3a4f69e2",
   "metadata": {},
   "source": [
    "# Run Inference"
   ]
  },
  {
   "cell_type": "code",
   "execution_count": 5,
   "id": "7e98c78f-c857-4c98-adbe-bb05167ad5d8",
   "metadata": {},
   "outputs": [],
   "source": [
    "results = compiled_model([input_image])[output_layer]"
   ]
  },
  {
   "cell_type": "code",
   "execution_count": 6,
   "id": "c6d84e74-3ace-4a5d-b1cc-d1083b94ae5f",
   "metadata": {},
   "outputs": [
    {
     "name": "stdout",
     "output_type": "stream",
     "text": [
      "(1, 1, 200, 7)\n"
     ]
    }
   ],
   "source": [
    "print(results.shape)"
   ]
  },
  {
   "cell_type": "code",
   "execution_count": 7,
   "id": "2f1a49e5-fb78-4d80-9a79-36907f1205ef",
   "metadata": {},
   "outputs": [
    {
     "name": "stdout",
     "output_type": "stream",
     "text": [
      "[0.   1.   1.   0.03 0.25 0.22 0.52]\n"
     ]
    }
   ],
   "source": [
    "print(np.round(results[0][0][0],2))"
   ]
  },
  {
   "cell_type": "markdown",
   "id": "c8236e09-85db-4e9c-8d68-55b0bd5296a0",
   "metadata": {},
   "source": [
    "# Postprocess"
   ]
  },
  {
   "cell_type": "code",
   "execution_count": 8,
   "id": "84609393-eb88-41fe-90a6-344157818c56",
   "metadata": {},
   "outputs": [],
   "source": [
    "def find_faceboxes(image, results, confidence_threshold):\n",
    "    results = results.squeeze()\n",
    "\n",
    "    scores = results[:,2]\n",
    "    boxes = results[:, -4:]\n",
    "\n",
    "    face_boxes = boxes[scores >= confidence_threshold]\n",
    "    scores = scores[scores >= confidence_threshold]\n",
    "\n",
    "    image_h, image_w, image_channels = image.shape\n",
    "    face_boxes = face_boxes*np.array([image_w, image_h, image_w, image_h])\n",
    "    face_boxes = face_boxes.astype(np.int64)\n",
    "\n",
    "    return face_boxes, scores"
   ]
  },
  {
   "cell_type": "code",
   "execution_count": 9,
   "id": "bcccaef1-e3af-4836-99ae-7a87b293d317",
   "metadata": {},
   "outputs": [
    {
     "name": "stdout",
     "output_type": "stream",
     "text": [
      "[[  3  24  20  49]\n",
      " [ 34  23  56  52]\n",
      " [ 69  15  94  69]\n",
      " [ 35  49  43  61]\n",
      " [ 59  19  80  59]\n",
      " [ 15  68  27  86]\n",
      " [ 72  14  91  47]\n",
      " [ 58  35  78  74]\n",
      " [ 60  27  73  44]\n",
      " [ 67  37  74  59]\n",
      " [ 53  -2  82  21]\n",
      " [ 73  29  88  64]\n",
      " [  0  24   5  36]\n",
      " [ 33  51  42  68]\n",
      " [ 55  11  81  40]\n",
      " [ 57  24  67  46]\n",
      " [ 80  36  90  52]\n",
      " [ 67  49  89  88]\n",
      " [ 71  36  78  61]\n",
      " [ 83  45 107  94]\n",
      " [ 85  14  93  40]\n",
      " [ 66  28  74  51]\n",
      " [ 64  28  70  44]\n",
      " [ 75  37  84  61]\n",
      " [ 33  56  40  71]\n",
      " [ 78  42  95  89]\n",
      " [ 76  70  95 100]\n",
      " [ 29  57  40  77]\n",
      " [ 68  36  71  45]\n",
      " [ 85  24  93  50]\n",
      " [ 87  61 102 108]\n",
      " [ 76  46  84  70]\n",
      " [ 35  60  39  69]\n",
      " [ 18  69  25  85]\n",
      " [ 80  16 108  67]\n",
      " [ 85  38  90  45]\n",
      " [ 66  38  68  45]\n",
      " [ 17  69  23  81]\n",
      " [ 34  46  41  56]\n",
      " [ 73  63  88  89]\n",
      " [  1  65  12  84]\n",
      " [ 13  45  27  57]\n",
      " [ 65  26  69  34]\n",
      " [ 29  73  38  92]\n",
      " [ 15  74  23  86]\n",
      " [ 24  44  34  58]\n",
      " [ 19  60  28  82]\n",
      " [ 36  57  42  71]\n",
      " [ 25  57  34  78]\n",
      " [ 36  51  39  57]\n",
      " [ 67  47  74  69]\n",
      " [ 87  37  94  52]\n",
      " [ 33  48  39  60]\n",
      " [ 19  66  24  77]\n",
      " [ 66  33  72  47]\n",
      " [ 33  64  43  84]\n",
      " [ 71  46  79  69]\n",
      " [  4  49  13  59]\n",
      " [ 66  71  89 101]\n",
      " [ 76  55  84  78]\n",
      " [ 66  30  68  37]\n",
      " [ 35  44  44  59]\n",
      " [ 90  13  96  39]\n",
      " [ 84  31  92  44]\n",
      " [ 70  40  77  54]\n",
      " [  7  62  12  69]\n",
      " [ 67  38  73  50]\n",
      " [ 33  60  37  69]\n",
      " [ 70  -7  85  31]\n",
      " [ 36  58  39  64]\n",
      " [ 82  43  88  55]\n",
      " [ 33  57  37  66]\n",
      " [ 18  45  24  55]\n",
      " [ -1  87   5  98]\n",
      " [ 19  72  29  88]\n",
      " [ 67  43  73  54]\n",
      " [ 22  69  34  83]\n",
      " [ 63  28  68  40]\n",
      " [ 63  51  71  64]\n",
      " [  4  69  18  82]\n",
      " [ 60  44  72  59]\n",
      " [ 36  62  39  68]\n",
      " [ 14  72  20  85]\n",
      " [ 70  61  84 111]\n",
      " [  7  58  18  71]\n",
      " [ 29  48  37  61]\n",
      " [ 36  51  44  66]\n",
      " [ 73  48  80  57]\n",
      " [  3  63  13  75]\n",
      " [ 68  39  71  44]\n",
      " [  4   1  14  10]\n",
      " [ 80   0  90  13]\n",
      " [ 65  36  69  45]\n",
      " [ 55  44  67  59]\n",
      " [ 66  25  72  35]\n",
      " [  2  86  18  96]\n",
      " [ 77  34  86  50]\n",
      " [ 27  59  43  88]\n",
      " [ 68  35  70  41]\n",
      " [ 29  73  35  81]\n",
      " [ 66  34  68  41]]\n"
     ]
    }
   ],
   "source": [
    "confidence_threshold = .02\n",
    "face_boxes, scores = find_faceboxes(image, results, confidence_threshold)\n",
    "print(face_boxes)"
   ]
  },
  {
   "cell_type": "code",
   "execution_count": 10,
   "id": "87ff245d-9431-4fbc-adb1-6e3dee6ea2a4",
   "metadata": {},
   "outputs": [
    {
     "name": "stdout",
     "output_type": "stream",
     "text": [
      "[ 3 24 20 49]\n",
      "0.9999907\n",
      "[34 23 56 52]\n",
      "0.9911361\n",
      "[69 15 94 69]\n",
      "0.4844637\n",
      "[35 49 43 61]\n",
      "0.083713785\n",
      "[59 19 80 59]\n",
      "0.06491674\n",
      "[15 68 27 86]\n",
      "0.04823203\n",
      "[72 14 91 47]\n",
      "0.046187453\n",
      "[58 35 78 74]\n",
      "0.04467837\n",
      "[60 27 73 44]\n",
      "0.042244952\n",
      "[67 37 74 59]\n",
      "0.038073733\n",
      "[53 -2 82 21]\n",
      "0.03741755\n",
      "[73 29 88 64]\n",
      "0.036926936\n",
      "[ 0 24  5 36]\n",
      "0.03587845\n",
      "[33 51 42 68]\n",
      "0.034922965\n",
      "[55 11 81 40]\n",
      "0.033793412\n",
      "[57 24 67 46]\n",
      "0.033770792\n",
      "[80 36 90 52]\n",
      "0.03334547\n",
      "[67 49 89 88]\n",
      "0.032575436\n",
      "[71 36 78 61]\n",
      "0.032273594\n",
      "[ 83  45 107  94]\n",
      "0.032245412\n",
      "[85 14 93 40]\n",
      "0.03209773\n",
      "[66 28 74 51]\n",
      "0.032060508\n",
      "[64 28 70 44]\n",
      "0.03135642\n",
      "[75 37 84 61]\n",
      "0.031339467\n",
      "[33 56 40 71]\n",
      "0.031190425\n",
      "[78 42 95 89]\n",
      "0.031182367\n",
      "[ 76  70  95 100]\n",
      "0.030608367\n",
      "[29 57 40 77]\n",
      "0.030545376\n",
      "[68 36 71 45]\n",
      "0.030305902\n",
      "[85 24 93 50]\n",
      "0.03018822\n",
      "[ 87  61 102 108]\n",
      "0.030142838\n",
      "[76 46 84 70]\n",
      "0.029986132\n",
      "[35 60 39 69]\n",
      "0.029860483\n",
      "[18 69 25 85]\n",
      "0.029530255\n",
      "[ 80  16 108  67]\n",
      "0.029266516\n",
      "[85 38 90 45]\n",
      "0.028898807\n",
      "[66 38 68 45]\n",
      "0.028788038\n",
      "[17 69 23 81]\n",
      "0.028748546\n",
      "[34 46 41 56]\n",
      "0.028536048\n",
      "[73 63 88 89]\n",
      "0.02821709\n",
      "[ 1 65 12 84]\n",
      "0.027932754\n",
      "[13 45 27 57]\n",
      "0.027729094\n",
      "[65 26 69 34]\n",
      "0.02770531\n",
      "[29 73 38 92]\n",
      "0.027521487\n",
      "[15 74 23 86]\n",
      "0.027398095\n",
      "[24 44 34 58]\n",
      "0.027388679\n",
      "[19 60 28 82]\n",
      "0.027296238\n",
      "[36 57 42 71]\n",
      "0.027274566\n",
      "[25 57 34 78]\n",
      "0.027207203\n",
      "[36 51 39 57]\n",
      "0.026821258\n",
      "[67 47 74 69]\n",
      "0.026767662\n",
      "[87 37 94 52]\n",
      "0.02667291\n",
      "[33 48 39 60]\n",
      "0.02667094\n",
      "[19 66 24 77]\n",
      "0.026209926\n",
      "[66 33 72 47]\n",
      "0.026128192\n",
      "[33 64 43 84]\n",
      "0.026090993\n",
      "[71 46 79 69]\n",
      "0.026040046\n",
      "[ 4 49 13 59]\n",
      "0.02598784\n",
      "[ 66  71  89 101]\n",
      "0.02596173\n",
      "[76 55 84 78]\n",
      "0.025958072\n",
      "[66 30 68 37]\n",
      "0.025822902\n",
      "[35 44 44 59]\n",
      "0.025669685\n",
      "[90 13 96 39]\n",
      "0.025523063\n",
      "[84 31 92 44]\n",
      "0.025433747\n",
      "[70 40 77 54]\n",
      "0.02525133\n",
      "[ 7 62 12 69]\n",
      "0.025092797\n",
      "[67 38 73 50]\n",
      "0.025061306\n",
      "[33 60 37 69]\n",
      "0.025032282\n",
      "[70 -7 85 31]\n",
      "0.02499054\n",
      "[36 58 39 64]\n",
      "0.024988607\n",
      "[82 43 88 55]\n",
      "0.024971658\n",
      "[33 57 37 66]\n",
      "0.024953892\n",
      "[18 45 24 55]\n",
      "0.024948308\n",
      "[-1 87  5 98]\n",
      "0.024938392\n",
      "[19 72 29 88]\n",
      "0.024883987\n",
      "[67 43 73 54]\n",
      "0.024760744\n",
      "[22 69 34 83]\n",
      "0.024740515\n",
      "[63 28 68 40]\n",
      "0.02463283\n",
      "[63 51 71 64]\n",
      "0.024599845\n",
      "[ 4 69 18 82]\n",
      "0.024550175\n",
      "[60 44 72 59]\n",
      "0.024546664\n",
      "[36 62 39 68]\n",
      "0.02453241\n",
      "[14 72 20 85]\n",
      "0.024504285\n",
      "[ 70  61  84 111]\n",
      "0.024371855\n",
      "[ 7 58 18 71]\n",
      "0.024346856\n",
      "[29 48 37 61]\n",
      "0.024306357\n",
      "[36 51 44 66]\n",
      "0.0242284\n",
      "[73 48 80 57]\n",
      "0.02422145\n",
      "[ 3 63 13 75]\n",
      "0.024183225\n",
      "[68 39 71 44]\n",
      "0.024180112\n",
      "[ 4  1 14 10]\n",
      "0.02410935\n",
      "[80  0 90 13]\n",
      "0.02408642\n",
      "[65 36 69 45]\n",
      "0.024075873\n",
      "[55 44 67 59]\n",
      "0.023995068\n",
      "[66 25 72 35]\n",
      "0.023994861\n",
      "[ 2 86 18 96]\n",
      "0.023938088\n",
      "[77 34 86 50]\n",
      "0.02391479\n",
      "[27 59 43 88]\n",
      "0.023914205\n",
      "[68 35 70 41]\n",
      "0.023903323\n",
      "[29 73 35 81]\n",
      "0.023892082\n",
      "[66 34 68 41]\n",
      "0.023875179\n"
     ]
    }
   ],
   "source": [
    "for i in range(len(face_boxes)):\n",
    "    print(face_boxes[i])\n",
    "    print(scores[i])\n"
   ]
  },
  {
   "cell_type": "code",
   "execution_count": 11,
   "id": "9379990d-aa29-4240-ba9c-f7641ad8d032",
   "metadata": {},
   "outputs": [
    {
     "name": "stdout",
     "output_type": "stream",
     "text": [
      "101\n"
     ]
    }
   ],
   "source": [
    "print(len(face_boxes))"
   ]
  },
  {
   "cell_type": "code",
   "execution_count": 12,
   "id": "fdffd0f4-b0d3-4f45-aa32-6351de1059ed",
   "metadata": {},
   "outputs": [
    {
     "name": "stdout",
     "output_type": "stream",
     "text": [
      "[0.9999907  0.9911361  0.4844637  0.08371378 0.06491674 0.04823203\n",
      " 0.04618745 0.04467837 0.04224495 0.03807373 0.03741755 0.03692694\n",
      " 0.03587845 0.03492296 0.03379341 0.03377079 0.03334547 0.03257544\n",
      " 0.03227359 0.03224541 0.03209773 0.03206051 0.03135642 0.03133947\n",
      " 0.03119043 0.03118237 0.03060837 0.03054538 0.0303059  0.03018822\n",
      " 0.03014284 0.02998613 0.02986048 0.02953026 0.02926652 0.02889881\n",
      " 0.02878804 0.02874855 0.02853605 0.02821709 0.02793275 0.02772909\n",
      " 0.02770531 0.02752149 0.02739809 0.02738868 0.02729624 0.02727457\n",
      " 0.0272072  0.02682126 0.02676766 0.02667291 0.02667094 0.02620993\n",
      " 0.02612819 0.02609099 0.02604005 0.02598784 0.02596173 0.02595807\n",
      " 0.0258229  0.02566968 0.02552306 0.02543375 0.02525133 0.0250928\n",
      " 0.02506131 0.02503228 0.02499054 0.02498861 0.02497166 0.02495389\n",
      " 0.02494831 0.02493839 0.02488399 0.02476074 0.02474052 0.02463283\n",
      " 0.02459984 0.02455018 0.02454666 0.02453241 0.02450429 0.02437185\n",
      " 0.02434686 0.02430636 0.0242284  0.02422145 0.02418322 0.02418011\n",
      " 0.02410935 0.02408642 0.02407587 0.02399507 0.02399486 0.02393809\n",
      " 0.02391479 0.0239142  0.02390332 0.02389208 0.02387518]\n"
     ]
    }
   ],
   "source": [
    "print(scores)"
   ]
  },
  {
   "cell_type": "code",
   "execution_count": 13,
   "id": "66503a97-8f7f-46ce-94ac-06457b99ff01",
   "metadata": {},
   "outputs": [],
   "source": [
    "def draw_faceboxes(images, face_boxes, scores):\n",
    "\n",
    "    show_image = image.copy()\n",
    "\n",
    "    for i in range(len(face_boxes)):\n",
    "\n",
    "        xmin, ymin, xmax, ymax = face_boxes[i]\n",
    "        cv2.rectangle(img=show_image, pt1=(xmin,ymin), pt2=(xmax,ymax), color=(0,200,0), thickness=2)\n",
    "\n",
    "    return show_image"
   ]
  },
  {
   "cell_type": "code",
   "execution_count": 14,
   "id": "0f053fb8-49de-4722-813b-2d3ee33504fb",
   "metadata": {},
   "outputs": [
    {
     "data": {
      "text/plain": [
       "<matplotlib.image.AxesImage at 0x1a342388c50>"
      ]
     },
     "execution_count": 14,
     "metadata": {},
     "output_type": "execute_result"
    },
    {
     "data": {
      "image/png": "[encoded data removed]",
      "text/plain": [
       "<Figure size 640x480 with 1 Axes>"
      ]
     },
     "metadata": {},
     "output_type": "display_data"
    }
   ],
   "source": [
    "show_image = draw_faceboxes(image, face_boxes, scores)\n",
    "\n",
    "plt.imshow(cv2.cvtColor(show_image, cv2.COLOR_BGR2RGB))"
   ]
  },
  {
   "cell_type": "code",
   "execution_count": 15,
   "id": "63170867-a75f-40dc-a7b9-09f684613f9a",
   "metadata": {},
   "outputs": [],
   "source": [
    "cv2.imshow(\"Image\", show_image)\n",
    "cv2.waitKey()\n",
    "cv2.destroyAllWindows()   "
   ]
  },
  {
   "cell_type": "code",
   "execution_count": null,
   "id": "45bf3eb7-dfc8-44b9-a2cf-d79730f326ea",
   "metadata": {},
   "outputs": [],
   "source": []
  },
  {
   "cell_type": "code",
   "execution_count": null,
   "id": "928f6bff-144e-493e-96a3-304587d3480c",
   "metadata": {},
   "outputs": [],
   "source": []
  }
 ],
 "metadata": {
  "kernelspec": {
   "display_name": "Python 3 (ipykernel)",
   "language": "python",
   "name": "python3"
  },
  "language_info": {
   "codemirror_mode": {
    "name": "ipython",
    "version": 3
   },
   "file_extension": ".py",
   "mimetype": "text/x-python",
   "name": "python",
   "nbconvert_exporter": "python",
   "pygments_lexer": "ipython3",
   "version": "3.11.9"
  },
  "panel-cell-order": [
   "b3f1c83e-fd85-4de2-b53d-a0565ddd714c",
   "70266603-097f-406f-b5cf-39242592d6d9",
   "3a3692b0-71f5-4667-9c17-429b14f9f879",
   "a539e59a-83e0-4900-8322-9c25808c5266",
   "4d1b0409-5b4e-4858-be8e-2fb6ac2f8dfb",
   "e6a34fa1-294e-4a70-aa88-2f68a255e3b5",
   "9f47e1e9-4129-4530-aba8-e5b49a244b98"
  ]
 },
 "nbformat": 4,
 "nbformat_minor": 5
}
